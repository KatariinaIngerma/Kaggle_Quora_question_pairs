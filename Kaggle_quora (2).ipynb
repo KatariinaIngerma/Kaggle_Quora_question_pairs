{
  "nbformat": 4,
  "nbformat_minor": 0,
  "metadata": {
    "colab": {
      "provenance": []
    },
    "kernelspec": {
      "name": "python3",
      "display_name": "Python 3"
    },
    "language_info": {
      "name": "python"
    },
    "accelerator": "GPU",
    "gpuClass": "standard"
  },
  "cells": [
    {
      "cell_type": "markdown",
      "source": [
        "## Quora Question Pairs\n",
        "Ülesanne on luua mudel, mis vaataks, kas kaks Quorasse postitatud küsimust on sama sisuga. \n",
        "https://www.kaggle.com/competitions/quora-question-pairs/overview \n"
      ],
      "metadata": {
        "id": "jqe3L3klsEgF"
      }
    },
    {
      "cell_type": "code",
      "execution_count": 136,
      "metadata": {
        "colab": {
          "base_uri": "https://localhost:8080/"
        },
        "id": "Hc9pJaWSzsSl",
        "outputId": "dd197c7a-19b2-4e5a-ccd4-77884a7c8b07"
      },
      "outputs": [
        {
          "output_type": "stream",
          "name": "stderr",
          "text": [
            "[nltk_data] Downloading package stopwords to /root/nltk_data...\n",
            "[nltk_data]   Package stopwords is already up-to-date!\n",
            "[nltk_data] Downloading package punkt to /root/nltk_data...\n",
            "[nltk_data]   Package punkt is already up-to-date!\n"
          ]
        },
        {
          "output_type": "execute_result",
          "data": {
            "text/plain": [
              "True"
            ]
          },
          "metadata": {},
          "execution_count": 136
        }
      ],
      "source": [
        "# teekide importimine\n",
        "import pandas as pd\n",
        "import numpy as np\n",
        "import nltk\n",
        "from nltk.corpus import stopwords\n",
        "from nltk.stem import PorterStemmer\n",
        "from sklearn.feature_extraction.text import CountVectorizer\n",
        "import re\n",
        "from sklearn.linear_model import LogisticRegression\n",
        "from sklearn.tree import DecisionTreeClassifier\n",
        "from sklearn.model_selection import train_test_split\n",
        "from sklearn.metrics import classification_report\n",
        "nltk.download('stopwords')\n",
        "nltk.download('punkt')"
      ]
    },
    {
      "cell_type": "code",
      "source": [
        "!pip install nltk"
      ],
      "metadata": {
        "colab": {
          "base_uri": "https://localhost:8080/"
        },
        "id": "CnqZ80xA52tA",
        "outputId": "b7f8aea2-8710-4f36-9b87-5fc483ab370e"
      },
      "execution_count": 18,
      "outputs": [
        {
          "output_type": "stream",
          "name": "stdout",
          "text": [
            "Looking in indexes: https://pypi.org/simple, https://us-python.pkg.dev/colab-wheels/public/simple/\n",
            "Requirement already satisfied: nltk in /usr/local/lib/python3.9/dist-packages (3.8.1)\n",
            "Requirement already satisfied: regex>=2021.8.3 in /usr/local/lib/python3.9/dist-packages (from nltk) (2022.10.31)\n",
            "Requirement already satisfied: joblib in /usr/local/lib/python3.9/dist-packages (from nltk) (1.1.1)\n",
            "Requirement already satisfied: click in /usr/local/lib/python3.9/dist-packages (from nltk) (8.1.3)\n",
            "Requirement already satisfied: tqdm in /usr/local/lib/python3.9/dist-packages (from nltk) (4.65.0)\n"
          ]
        }
      ]
    },
    {
      "cell_type": "code",
      "source": [
        "import os\n",
        "from google.colab import drive\n",
        "drive.mount('/content/drive')\n",
        "os.chdir(\"/content/drive/My Drive/Colab Notebooks/\")"
      ],
      "metadata": {
        "colab": {
          "base_uri": "https://localhost:8080/"
        },
        "id": "l4z_GDVp0R5d",
        "outputId": "c14d560d-02ed-4916-aa39-ec567e074b72"
      },
      "execution_count": 96,
      "outputs": [
        {
          "output_type": "stream",
          "name": "stdout",
          "text": [
            "Drive already mounted at /content/drive; to attempt to forcibly remount, call drive.mount(\"/content/drive\", force_remount=True).\n"
          ]
        }
      ]
    },
    {
      "cell_type": "code",
      "source": [
        "andmed = pd.read_csv('train.csv')"
      ],
      "metadata": {
        "id": "idbe6ZpZ0kTl"
      },
      "execution_count": 25,
      "outputs": []
    },
    {
      "cell_type": "code",
      "source": [
        "andmed.info()"
      ],
      "metadata": {
        "colab": {
          "base_uri": "https://localhost:8080/"
        },
        "id": "bV5eOqA61u0k",
        "outputId": "f79b9b77-1619-48f4-8bff-4080e0284f48"
      },
      "execution_count": 8,
      "outputs": [
        {
          "output_type": "stream",
          "name": "stdout",
          "text": [
            "<class 'pandas.core.frame.DataFrame'>\n",
            "RangeIndex: 404290 entries, 0 to 404289\n",
            "Data columns (total 6 columns):\n",
            " #   Column        Non-Null Count   Dtype \n",
            "---  ------        --------------   ----- \n",
            " 0   id            404290 non-null  int64 \n",
            " 1   qid1          404290 non-null  int64 \n",
            " 2   qid2          404290 non-null  int64 \n",
            " 3   question1     404289 non-null  object\n",
            " 4   question2     404288 non-null  object\n",
            " 5   is_duplicate  404290 non-null  int64 \n",
            "dtypes: int64(4), object(2)\n",
            "memory usage: 18.5+ MB\n"
          ]
        }
      ]
    },
    {
      "cell_type": "markdown",
      "source": [
        "Andmestiku töötlemine"
      ],
      "metadata": {
        "id": "PzQPsonvKR-H"
      }
    },
    {
      "cell_type": "code",
      "source": [
        "stop_words = set(stopwords.words('english'))\n",
        "ps = PorterStemmer()"
      ],
      "metadata": {
        "id": "aWT_F3ugDePX"
      },
      "execution_count": 8,
      "outputs": []
    },
    {
      "cell_type": "code",
      "source": [
        "def preprocess(text):\n",
        "    if isinstance(text, str):\n",
        "        text = text.lower().replace('[^\\w\\s]', '')\n",
        "        words = [ps.stem(word) for word in text.split() if word not in stop_words]\n",
        "        text = ' '.join(words)\n",
        "    return text"
      ],
      "metadata": {
        "id": "xBDkRakiAxjq"
      },
      "execution_count": 13,
      "outputs": []
    },
    {
      "cell_type": "code",
      "source": [
        "andmed['question1'] = andmed['question1'].apply(preprocess)"
      ],
      "metadata": {
        "id": "O6_gFx13A2ZK"
      },
      "execution_count": 27,
      "outputs": []
    },
    {
      "cell_type": "code",
      "source": [
        "andmed['question2'] = andmed['question2'].apply(preprocess)"
      ],
      "metadata": {
        "id": "HjPBQDSeEe1T"
      },
      "execution_count": 28,
      "outputs": []
    },
    {
      "cell_type": "code",
      "source": [
        "andmed = andmed.dropna(axis=\"rows\")"
      ],
      "metadata": {
        "id": "PjBhtuiUGaz4"
      },
      "execution_count": 32,
      "outputs": []
    },
    {
      "cell_type": "code",
      "source": [
        "vectorizer = CountVectorizer()\n",
        "X_train = vectorizer.fit_transform(andmed['question1'] + andmed['question2'])"
      ],
      "metadata": {
        "id": "LaWsm6WLGOBT"
      },
      "execution_count": 142,
      "outputs": []
    },
    {
      "cell_type": "markdown",
      "source": [
        "Mudeli treenimine"
      ],
      "metadata": {
        "id": "Q2vXu1rSoHVM"
      }
    },
    {
      "cell_type": "code",
      "source": [
        "y_train = andmed['is_duplicate']\n",
        "\n",
        "model1 = LogisticRegression()\n",
        "model1.fit(X_train, y_train)"
      ],
      "metadata": {
        "colab": {
          "base_uri": "https://localhost:8080/",
          "height": 213
        },
        "id": "TexPV6CpHz60",
        "outputId": "6bfa43fc-bf8c-4fb0-dc99-07ac8b55201e"
      },
      "execution_count": 143,
      "outputs": [
        {
          "output_type": "stream",
          "name": "stderr",
          "text": [
            "/usr/local/lib/python3.9/dist-packages/sklearn/linear_model/_logistic.py:458: ConvergenceWarning: lbfgs failed to converge (status=1):\n",
            "STOP: TOTAL NO. of ITERATIONS REACHED LIMIT.\n",
            "\n",
            "Increase the number of iterations (max_iter) or scale the data as shown in:\n",
            "    https://scikit-learn.org/stable/modules/preprocessing.html\n",
            "Please also refer to the documentation for alternative solver options:\n",
            "    https://scikit-learn.org/stable/modules/linear_model.html#logistic-regression\n",
            "  n_iter_i = _check_optimize_result(\n"
          ]
        },
        {
          "output_type": "execute_result",
          "data": {
            "text/plain": [
              "LogisticRegression()"
            ],
            "text/html": [
              "<style>#sk-container-id-8 {color: black;background-color: white;}#sk-container-id-8 pre{padding: 0;}#sk-container-id-8 div.sk-toggleable {background-color: white;}#sk-container-id-8 label.sk-toggleable__label {cursor: pointer;display: block;width: 100%;margin-bottom: 0;padding: 0.3em;box-sizing: border-box;text-align: center;}#sk-container-id-8 label.sk-toggleable__label-arrow:before {content: \"▸\";float: left;margin-right: 0.25em;color: #696969;}#sk-container-id-8 label.sk-toggleable__label-arrow:hover:before {color: black;}#sk-container-id-8 div.sk-estimator:hover label.sk-toggleable__label-arrow:before {color: black;}#sk-container-id-8 div.sk-toggleable__content {max-height: 0;max-width: 0;overflow: hidden;text-align: left;background-color: #f0f8ff;}#sk-container-id-8 div.sk-toggleable__content pre {margin: 0.2em;color: black;border-radius: 0.25em;background-color: #f0f8ff;}#sk-container-id-8 input.sk-toggleable__control:checked~div.sk-toggleable__content {max-height: 200px;max-width: 100%;overflow: auto;}#sk-container-id-8 input.sk-toggleable__control:checked~label.sk-toggleable__label-arrow:before {content: \"▾\";}#sk-container-id-8 div.sk-estimator input.sk-toggleable__control:checked~label.sk-toggleable__label {background-color: #d4ebff;}#sk-container-id-8 div.sk-label input.sk-toggleable__control:checked~label.sk-toggleable__label {background-color: #d4ebff;}#sk-container-id-8 input.sk-hidden--visually {border: 0;clip: rect(1px 1px 1px 1px);clip: rect(1px, 1px, 1px, 1px);height: 1px;margin: -1px;overflow: hidden;padding: 0;position: absolute;width: 1px;}#sk-container-id-8 div.sk-estimator {font-family: monospace;background-color: #f0f8ff;border: 1px dotted black;border-radius: 0.25em;box-sizing: border-box;margin-bottom: 0.5em;}#sk-container-id-8 div.sk-estimator:hover {background-color: #d4ebff;}#sk-container-id-8 div.sk-parallel-item::after {content: \"\";width: 100%;border-bottom: 1px solid gray;flex-grow: 1;}#sk-container-id-8 div.sk-label:hover label.sk-toggleable__label {background-color: #d4ebff;}#sk-container-id-8 div.sk-serial::before {content: \"\";position: absolute;border-left: 1px solid gray;box-sizing: border-box;top: 0;bottom: 0;left: 50%;z-index: 0;}#sk-container-id-8 div.sk-serial {display: flex;flex-direction: column;align-items: center;background-color: white;padding-right: 0.2em;padding-left: 0.2em;position: relative;}#sk-container-id-8 div.sk-item {position: relative;z-index: 1;}#sk-container-id-8 div.sk-parallel {display: flex;align-items: stretch;justify-content: center;background-color: white;position: relative;}#sk-container-id-8 div.sk-item::before, #sk-container-id-8 div.sk-parallel-item::before {content: \"\";position: absolute;border-left: 1px solid gray;box-sizing: border-box;top: 0;bottom: 0;left: 50%;z-index: -1;}#sk-container-id-8 div.sk-parallel-item {display: flex;flex-direction: column;z-index: 1;position: relative;background-color: white;}#sk-container-id-8 div.sk-parallel-item:first-child::after {align-self: flex-end;width: 50%;}#sk-container-id-8 div.sk-parallel-item:last-child::after {align-self: flex-start;width: 50%;}#sk-container-id-8 div.sk-parallel-item:only-child::after {width: 0;}#sk-container-id-8 div.sk-dashed-wrapped {border: 1px dashed gray;margin: 0 0.4em 0.5em 0.4em;box-sizing: border-box;padding-bottom: 0.4em;background-color: white;}#sk-container-id-8 div.sk-label label {font-family: monospace;font-weight: bold;display: inline-block;line-height: 1.2em;}#sk-container-id-8 div.sk-label-container {text-align: center;}#sk-container-id-8 div.sk-container {/* jupyter's `normalize.less` sets `[hidden] { display: none; }` but bootstrap.min.css set `[hidden] { display: none !important; }` so we also need the `!important` here to be able to override the default hidden behavior on the sphinx rendered scikit-learn.org. See: https://github.com/scikit-learn/scikit-learn/issues/21755 */display: inline-block !important;position: relative;}#sk-container-id-8 div.sk-text-repr-fallback {display: none;}</style><div id=\"sk-container-id-8\" class=\"sk-top-container\"><div class=\"sk-text-repr-fallback\"><pre>LogisticRegression()</pre><b>In a Jupyter environment, please rerun this cell to show the HTML representation or trust the notebook. <br />On GitHub, the HTML representation is unable to render, please try loading this page with nbviewer.org.</b></div><div class=\"sk-container\" hidden><div class=\"sk-item\"><div class=\"sk-estimator sk-toggleable\"><input class=\"sk-toggleable__control sk-hidden--visually\" id=\"sk-estimator-id-8\" type=\"checkbox\" checked><label for=\"sk-estimator-id-8\" class=\"sk-toggleable__label sk-toggleable__label-arrow\">LogisticRegression</label><div class=\"sk-toggleable__content\"><pre>LogisticRegression()</pre></div></div></div></div></div>"
            ]
          },
          "metadata": {},
          "execution_count": 143
        }
      ]
    },
    {
      "cell_type": "markdown",
      "source": [
        "Testimine"
      ],
      "metadata": {
        "id": "CRPntJ9GoLZN"
      }
    },
    {
      "cell_type": "code",
      "source": [
        "test_andmed = pd.read_csv(\"test.csv\")"
      ],
      "metadata": {
        "colab": {
          "base_uri": "https://localhost:8080/"
        },
        "id": "5CPVnMCBRPQ3",
        "outputId": "f3fab262-9c03-479a-e242-80ea8a81dafe"
      },
      "execution_count": 107,
      "outputs": [
        {
          "output_type": "stream",
          "name": "stderr",
          "text": [
            "<ipython-input-107-9b7117f5f757>:1: DtypeWarning: Columns (0) have mixed types. Specify dtype option on import or set low_memory=False.\n",
            "  test_andmed = pd.read_csv(\"test.csv\")\n"
          ]
        }
      ]
    },
    {
      "cell_type": "code",
      "source": [
        "test_andmed['test_id'] = pd.to_numeric(test_andmed['test_id'], errors='coerce')"
      ],
      "metadata": {
        "id": "2mULZf51h4RQ"
      },
      "execution_count": 114,
      "outputs": []
    },
    {
      "cell_type": "code",
      "source": [
        "test_andmed = test_andmed[test_andmed['test_id'].notnull() & (test_andmed['test_id'] % 1 == 0)]"
      ],
      "metadata": {
        "id": "zUryl_U-iCcV"
      },
      "execution_count": 117,
      "outputs": []
    },
    {
      "cell_type": "code",
      "source": [
        "test_andmed = test_andmed[pd.to_numeric(test_andmed['test_id'], errors='coerce').notnull()]"
      ],
      "metadata": {
        "id": "BbKQ4cYKhEiT"
      },
      "execution_count": 108,
      "outputs": []
    },
    {
      "cell_type": "code",
      "source": [
        "test_andmed = test_andmed.drop_duplicates()"
      ],
      "metadata": {
        "id": "ljjarPoxbN5M"
      },
      "execution_count": 119,
      "outputs": []
    },
    {
      "cell_type": "code",
      "source": [
        "test_andmed['question1'] = test_andmed['question1'].apply(preprocess)\n",
        "test_andmed['question2'] = test_andmed['question2'].apply(preprocess)"
      ],
      "metadata": {
        "id": "yEQQ_muQSt5-"
      },
      "execution_count": null,
      "outputs": []
    },
    {
      "cell_type": "code",
      "source": [
        "test_andmed['question1'] = test_andmed['question1'].fillna('')\n",
        "test_andmed['question2'] = test_andmed['question2'].fillna('')"
      ],
      "metadata": {
        "id": "Rd1aNo9RSOJC"
      },
      "execution_count": null,
      "outputs": []
    },
    {
      "cell_type": "code",
      "source": [
        "X = vectorizer.transform(test_andmed['question1'] + test_andmed['question2'])"
      ],
      "metadata": {
        "id": "riR-4SX2NBsL"
      },
      "execution_count": 125,
      "outputs": []
    },
    {
      "cell_type": "markdown",
      "source": [
        "Andmete faili kirjutamine ja ennustamine"
      ],
      "metadata": {
        "id": "YNoybcaboRpJ"
      }
    },
    {
      "cell_type": "code",
      "source": [
        "predictions = pd.DataFrame()\n",
        "predictions['test_id'] = test_andmed['test_id']"
      ],
      "metadata": {
        "id": "0FVXjOh-Z9f8"
      },
      "execution_count": 77,
      "outputs": []
    },
    {
      "cell_type": "code",
      "source": [
        "test_andmed['is_duplicate'] = model1.predict(X)\n",
        "predictions = test_andmed[['test_id', 'is_duplicate']]\n",
        "predictions.to_csv(\"test_predictions.csv\", index=False)"
      ],
      "metadata": {
        "id": "Lf1C8L00OsYS"
      },
      "execution_count": null,
      "outputs": []
    },
    {
      "cell_type": "markdown",
      "source": [
        "Täpsus lisaks"
      ],
      "metadata": {
        "id": "I01PW6d1oXT2"
      }
    },
    {
      "cell_type": "code",
      "source": [
        "X_train, X_val, y_train, y_val = train_test_split(X_train, y_train, test_size=0.2, random_state=42)\n",
        "model2 = LogisticRegression()\n",
        "model2.fit(X_train, y_train)"
      ],
      "metadata": {
        "colab": {
          "base_uri": "https://localhost:8080/",
          "height": 213
        },
        "id": "wV0V-sboIYPz",
        "outputId": "4dfe5d78-828c-4c94-9ef4-b3b28707a71e"
      },
      "execution_count": 144,
      "outputs": [
        {
          "output_type": "stream",
          "name": "stderr",
          "text": [
            "/usr/local/lib/python3.9/dist-packages/sklearn/linear_model/_logistic.py:458: ConvergenceWarning: lbfgs failed to converge (status=1):\n",
            "STOP: TOTAL NO. of ITERATIONS REACHED LIMIT.\n",
            "\n",
            "Increase the number of iterations (max_iter) or scale the data as shown in:\n",
            "    https://scikit-learn.org/stable/modules/preprocessing.html\n",
            "Please also refer to the documentation for alternative solver options:\n",
            "    https://scikit-learn.org/stable/modules/linear_model.html#logistic-regression\n",
            "  n_iter_i = _check_optimize_result(\n"
          ]
        },
        {
          "output_type": "execute_result",
          "data": {
            "text/plain": [
              "LogisticRegression()"
            ],
            "text/html": [
              "<style>#sk-container-id-9 {color: black;background-color: white;}#sk-container-id-9 pre{padding: 0;}#sk-container-id-9 div.sk-toggleable {background-color: white;}#sk-container-id-9 label.sk-toggleable__label {cursor: pointer;display: block;width: 100%;margin-bottom: 0;padding: 0.3em;box-sizing: border-box;text-align: center;}#sk-container-id-9 label.sk-toggleable__label-arrow:before {content: \"▸\";float: left;margin-right: 0.25em;color: #696969;}#sk-container-id-9 label.sk-toggleable__label-arrow:hover:before {color: black;}#sk-container-id-9 div.sk-estimator:hover label.sk-toggleable__label-arrow:before {color: black;}#sk-container-id-9 div.sk-toggleable__content {max-height: 0;max-width: 0;overflow: hidden;text-align: left;background-color: #f0f8ff;}#sk-container-id-9 div.sk-toggleable__content pre {margin: 0.2em;color: black;border-radius: 0.25em;background-color: #f0f8ff;}#sk-container-id-9 input.sk-toggleable__control:checked~div.sk-toggleable__content {max-height: 200px;max-width: 100%;overflow: auto;}#sk-container-id-9 input.sk-toggleable__control:checked~label.sk-toggleable__label-arrow:before {content: \"▾\";}#sk-container-id-9 div.sk-estimator input.sk-toggleable__control:checked~label.sk-toggleable__label {background-color: #d4ebff;}#sk-container-id-9 div.sk-label input.sk-toggleable__control:checked~label.sk-toggleable__label {background-color: #d4ebff;}#sk-container-id-9 input.sk-hidden--visually {border: 0;clip: rect(1px 1px 1px 1px);clip: rect(1px, 1px, 1px, 1px);height: 1px;margin: -1px;overflow: hidden;padding: 0;position: absolute;width: 1px;}#sk-container-id-9 div.sk-estimator {font-family: monospace;background-color: #f0f8ff;border: 1px dotted black;border-radius: 0.25em;box-sizing: border-box;margin-bottom: 0.5em;}#sk-container-id-9 div.sk-estimator:hover {background-color: #d4ebff;}#sk-container-id-9 div.sk-parallel-item::after {content: \"\";width: 100%;border-bottom: 1px solid gray;flex-grow: 1;}#sk-container-id-9 div.sk-label:hover label.sk-toggleable__label {background-color: #d4ebff;}#sk-container-id-9 div.sk-serial::before {content: \"\";position: absolute;border-left: 1px solid gray;box-sizing: border-box;top: 0;bottom: 0;left: 50%;z-index: 0;}#sk-container-id-9 div.sk-serial {display: flex;flex-direction: column;align-items: center;background-color: white;padding-right: 0.2em;padding-left: 0.2em;position: relative;}#sk-container-id-9 div.sk-item {position: relative;z-index: 1;}#sk-container-id-9 div.sk-parallel {display: flex;align-items: stretch;justify-content: center;background-color: white;position: relative;}#sk-container-id-9 div.sk-item::before, #sk-container-id-9 div.sk-parallel-item::before {content: \"\";position: absolute;border-left: 1px solid gray;box-sizing: border-box;top: 0;bottom: 0;left: 50%;z-index: -1;}#sk-container-id-9 div.sk-parallel-item {display: flex;flex-direction: column;z-index: 1;position: relative;background-color: white;}#sk-container-id-9 div.sk-parallel-item:first-child::after {align-self: flex-end;width: 50%;}#sk-container-id-9 div.sk-parallel-item:last-child::after {align-self: flex-start;width: 50%;}#sk-container-id-9 div.sk-parallel-item:only-child::after {width: 0;}#sk-container-id-9 div.sk-dashed-wrapped {border: 1px dashed gray;margin: 0 0.4em 0.5em 0.4em;box-sizing: border-box;padding-bottom: 0.4em;background-color: white;}#sk-container-id-9 div.sk-label label {font-family: monospace;font-weight: bold;display: inline-block;line-height: 1.2em;}#sk-container-id-9 div.sk-label-container {text-align: center;}#sk-container-id-9 div.sk-container {/* jupyter's `normalize.less` sets `[hidden] { display: none; }` but bootstrap.min.css set `[hidden] { display: none !important; }` so we also need the `!important` here to be able to override the default hidden behavior on the sphinx rendered scikit-learn.org. See: https://github.com/scikit-learn/scikit-learn/issues/21755 */display: inline-block !important;position: relative;}#sk-container-id-9 div.sk-text-repr-fallback {display: none;}</style><div id=\"sk-container-id-9\" class=\"sk-top-container\"><div class=\"sk-text-repr-fallback\"><pre>LogisticRegression()</pre><b>In a Jupyter environment, please rerun this cell to show the HTML representation or trust the notebook. <br />On GitHub, the HTML representation is unable to render, please try loading this page with nbviewer.org.</b></div><div class=\"sk-container\" hidden><div class=\"sk-item\"><div class=\"sk-estimator sk-toggleable\"><input class=\"sk-toggleable__control sk-hidden--visually\" id=\"sk-estimator-id-9\" type=\"checkbox\" checked><label for=\"sk-estimator-id-9\" class=\"sk-toggleable__label sk-toggleable__label-arrow\">LogisticRegression</label><div class=\"sk-toggleable__content\"><pre>LogisticRegression()</pre></div></div></div></div></div>"
            ]
          },
          "metadata": {},
          "execution_count": 144
        }
      ]
    },
    {
      "cell_type": "code",
      "source": [
        "y_pred = model2.predict(X_val)"
      ],
      "metadata": {
        "id": "oBqWYdklo_n0"
      },
      "execution_count": 146,
      "outputs": []
    },
    {
      "cell_type": "code",
      "source": [
        "print(classification_report(y_test, y_pred))"
      ],
      "metadata": {
        "colab": {
          "base_uri": "https://localhost:8080/"
        },
        "id": "gN14RbZgIqe1",
        "outputId": "ec2da934-94ee-47c1-cffc-fa2f159c9844"
      },
      "execution_count": 147,
      "outputs": [
        {
          "output_type": "stream",
          "name": "stdout",
          "text": [
            "              precision    recall  f1-score   support\n",
            "\n",
            "           0       0.78      0.84      0.81     51026\n",
            "           1       0.68      0.59      0.63     29832\n",
            "\n",
            "    accuracy                           0.75     80858\n",
            "   macro avg       0.73      0.72      0.72     80858\n",
            "weighted avg       0.74      0.75      0.74     80858\n",
            "\n"
          ]
        }
      ]
    },
    {
      "cell_type": "markdown",
      "source": [
        "Ma tegin kogemata ülesande, mille tähtaeg on juba möödas, aga ma loodan, et sellest pole hullu. Mingit sellist score näitab Kaggle, täpselt ei oska seda küll tõlgendada. \n",
        "![image.png](data:image/png;base64,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)"
      ],
      "metadata": {
        "id": "BkobGm8Ku0dn"
      }
    }
  ]
}